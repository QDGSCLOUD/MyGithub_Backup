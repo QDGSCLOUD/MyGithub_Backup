{
 "cells": [
  {
   "cell_type": "code",
   "execution_count": null,
   "metadata": {},
   "outputs": [],
   "source": [
    "# 导入所需的库\n",
    "import numpy as np\n",
    "import matplotlib.pyplot as plt\n",
    "from sklearn.linear_model import LinearRegression\n",
    "from sklearn.preprocessing import PolynomialFeatures\n",
    "from sklearn.model_selection import train_test_split\n",
    "from sklearn.metrics import mean_squared_error\n",
    "\n",
    "# 创建一个简单的数据集 \n",
    "np.random.seed(0)     \n",
    "X = np.linspace(0, 3, 500)  \n",
    "y = 1 + 2*X + np.random.normal(0, 0.3, 500) \n",
    "\n",
    "# 将数据集分成训练集和测试集\n",
    "X_train, X_test, y_train, y_test = train_test_split(X, y, test_size=0.3, random_state=0)\n",
    "\n",
    "# 画出真实数据集\n",
    "fig = plt.figure(figsize=(15,8))\n",
    "degrees=[2,15,30]\n",
    "colors = ['orange','m', 'c']\n",
    "for degree in degrees:\n",
    "    poly_features = PolynomialFeatures(degree=degree)\n",
    "    x_train_poly = poly_features.fit_transform(X_train.reshape(-1,1))\n",
    "    x_test_poly = poly_features.transform(X_test.reshape(-1,1))\n",
    "    model = LinearRegression()\n",
    "    model.fit(x_train_poly, y_train)\n",
    "    pre_y = model.predict(poly_features.transform(X.reshape(-1,1)))\n",
    "    plt.plot(X, pre_y, label=\"dregee=%d\"%degree, c=colors[degrees.index(degree)] ,lw=2)\n",
    "plt.scatter(X,y, s=2, c='r' ,label='Real Data')\n",
    "plt.legend()\n",
    "plt.savefig('LinearRegression_overfitting.png', dpi=300)\n"
   ]
  }
 ],
 "metadata": {
  "language_info": {
   "name": "python"
  },
  "orig_nbformat": 4
 },
 "nbformat": 4,
 "nbformat_minor": 2
}
