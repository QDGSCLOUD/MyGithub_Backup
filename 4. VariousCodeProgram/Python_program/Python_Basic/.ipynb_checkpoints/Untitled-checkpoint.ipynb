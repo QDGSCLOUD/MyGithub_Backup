{
 "cells": [
  {
   "cell_type": "code",
   "execution_count": 225,
   "id": "5739b417-8b32-4e7b-a7cf-eb4a09024480",
   "metadata": {},
   "outputs": [
    {
     "name": "stdin",
     "output_type": "stream",
     "text": [
      "输入数字: 1  开始摇号 \n",
      "直接回车:    停止摇号 \n"
     ]
    }
   ],
   "source": [
    "import numpy as np \n",
    "\n",
    "# 第一题\n",
    "# 生成数据\n",
    "def get_completedNumber():\n",
    "    pre_numb_list = []\n",
    "    suf_numb_list = []\n",
    "    # 获取前区号 ==> 共获得5个\n",
    "    for i_pre_num  in range(5):\n",
    "        user_pre_num = np.random.randint(1,36)\n",
    "        pre_numb_list.append(user_pre_num)\n",
    "\n",
    "    # 获取后区号 ==> 共获得2个\n",
    "    for i_suf_num in range(2):\n",
    "        user_suffix_num = np.random.randint(1,12)\n",
    "        suf_numb_list.append(user_suffix_num)\n",
    "        \n",
    "    # 随机生成完整的区域号码\n",
    "    prefix = np.random.choice(pre_numb_list)\n",
    "    suffix = np.random.choice(suf_numb_list)\n",
    "    finalNumber = str(prefix).zfill(2) + str(suffix).zfill(2)\n",
    "    finalNumber = finalNumber.strip('')\n",
    "    return finalNumber\n",
    "\n",
    "# 设置 中间号码\n",
    "award_num = 2112\n",
    "userinput = input(\"输入数字: 1  开始摇号; \\n直接回车:    停止摇号;\")\n",
    "\n",
    "\n",
    "\n",
    "\n",
    "      "
   ]
  },
  {
   "cell_type": "code",
   "execution_count": 194,
   "id": "b1cf4ad0-a8e0-4676-beef-cf81f6846941",
   "metadata": {},
   "outputs": [
    {
     "name": "stdout",
     "output_type": "stream",
     "text": [
      "2\n"
     ]
    }
   ],
   "source": []
  }
 ],
 "metadata": {
  "kernelspec": {
   "display_name": "geocat",
   "language": "python",
   "name": "geocat"
  },
  "language_info": {
   "codemirror_mode": {
    "name": "ipython",
    "version": 3
   },
   "file_extension": ".py",
   "mimetype": "text/x-python",
   "name": "python",
   "nbconvert_exporter": "python",
   "pygments_lexer": "ipython3",
   "version": "3.11.6"
  }
 },
 "nbformat": 4,
 "nbformat_minor": 5
}
