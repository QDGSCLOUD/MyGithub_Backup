{
 "cells": [
  {
   "cell_type": "code",
   "execution_count": 10,
   "id": "fbb9c438-224e-4ee5-b829-17bba08f8224",
   "metadata": {},
   "outputs": [
    {
     "name": "stdin",
     "output_type": "stream",
     "text": [
      "请输入一个年份, 我将会帮你判断是否是闰年 2021\n"
     ]
    },
    {
     "name": "stdout",
     "output_type": "stream",
     "text": [
      "2021不是闰年\n"
     ]
    }
   ],
   "source": [
    "# 判断某一个年份是否是闰年\n",
    "user_input_year = int(input(\"请输入一个年份, 我将会帮你判断是否是闰年\"))\n",
    "standation1 =  user_input_year%4\n",
    "standation2  =  user_input_year%100\n",
    "if ((standation1==0)  and (standation2 != 0) ): \n",
    "    print(f\"{user_input_year}是闰年\")\n",
    "else: \n",
    "    print(f\"{user_input_year}不是闰年\")"
   ]
  },
  {
   "cell_type": "code",
   "execution_count": 16,
   "id": "039235ef-48e1-429c-9409-9c3d35f2bfa4",
   "metadata": {},
   "outputs": [
    {
     "name": "stdout",
     "output_type": "stream",
     "text": [
      "5050\n"
     ]
    }
   ],
   "source": [
    "# 计算从 1 加到100 \n",
    "count = 1\n",
    "sum = 0 \n",
    "while(count < 101):  \n",
    "    sum = sum + count\n",
    "    count += 1\n",
    "print(sum)"
   ]
  },
  {
   "cell_type": "code",
   "execution_count": 17,
   "id": "1775f1e3-f722-434f-b3b9-e79966957c91",
   "metadata": {},
   "outputs": [
    {
     "name": "stdin",
     "output_type": "stream",
     "text": [
      "请输入一个数值 1\n"
     ]
    }
   ],
   "source": [
    "# 寻找水仙花数\n",
    "completed_number = 0\n",
    "while(completed_number<1000): \n",
    "    completed_number += 1\n",
    "\n",
    "first_num = \n",
    "deci_num = \n",
    "hund_num = \n"
   ]
  },
  {
   "cell_type": "code",
   "execution_count": 20,
   "id": "1ba82367-f694-4d04-b731-3f83f7306167",
   "metadata": {},
   "outputs": [
    {
     "name": "stdout",
     "output_type": "stream",
     "text": [
      "0\n"
     ]
    }
   ],
   "source": []
  },
  {
   "cell_type": "code",
   "execution_count": null,
   "id": "b44e7bda-d8df-4050-b33c-4bc2e2801b55",
   "metadata": {},
   "outputs": [],
   "source": []
  }
 ],
 "metadata": {
  "kernelspec": {
   "display_name": "Python 3 (ipykernel)",
   "language": "python",
   "name": "python3"
  },
  "language_info": {
   "codemirror_mode": {
    "name": "ipython",
    "version": 3
   },
   "file_extension": ".py",
   "mimetype": "text/x-python",
   "name": "python",
   "nbconvert_exporter": "python",
   "pygments_lexer": "ipython3",
   "version": "3.11.4"
  }
 },
 "nbformat": 4,
 "nbformat_minor": 5
}
